{
 "cells": [
  {
   "cell_type": "code",
   "execution_count": 17,
   "metadata": {},
   "outputs": [],
   "source": [
    "import os\n",
    "import json"
   ]
  },
  {
   "cell_type": "code",
   "execution_count": 12,
   "metadata": {},
   "outputs": [],
   "source": [
    "with open(file=r'infra\\terraform.tfstate',mode='r') as e:\n",
    "    con = e.read()"
   ]
  },
  {
   "cell_type": "code",
   "execution_count": 23,
   "metadata": {},
   "outputs": [],
   "source": [
    "data_json = json.loads(con)['outputs']\n",
    "EVENT_HUB_CONNECTION_PRODUCER_SEND_KEY = data_json['eventhub_producer_send_auth_rule']['value']\n",
    "EVENT_HUB_CONNECTION_PRODUCER_LISTEN_KEY = data_json['eventhub_producer_listen_auth_rule']['value']\n",
    "EVENT_HUB_CONNECTION_CONSUMER_LISTEN_KEY = data_json['eventhub_consumer_listen_auth_rule']['value']\n",
    "EVENT_HUB_CONNECTION_CONSUMER_SEND_KEY = data_json['eventhub_consumer_send_auth_rule']['value']\n",
    "BLOB_STORAGE_CONNECTION_PRODUCER = data_json['consumer_connection_string']['value']\n",
    "BLOB_STORAGE_CONNECTION_CONSUMER = data_json['predict_connection_string']['value']"
   ]
  },
  {
   "cell_type": "code",
   "execution_count": 32,
   "metadata": {},
   "outputs": [],
   "source": [
    "with open(file='.env',mode='a') as e:\n",
    "    e.write('\\n')\n",
    "    e.write(f'EVENT_HUB_CONNECTION_PRODUCER_SEND_KEY = \"{EVENT_HUB_CONNECTION_PRODUCER_SEND_KEY}\"')\n",
    "    e.write('\\n')\n",
    "    e.write(f'EVENT_HUB_CONNECTION_PRODUCER_LISTEN_KEY = \"{EVENT_HUB_CONNECTION_PRODUCER_LISTEN_KEY}\"')\n",
    "    e.write('\\n')\n",
    "    e.write(f'EVENT_HUB_CONNECTION_CONSUMER_LISTEN_KEY = \"{EVENT_HUB_CONNECTION_CONSUMER_LISTEN_KEY}\"')\n",
    "    e.write('\\n')\n",
    "    e.write(f'EVENT_HUB_CONNECTION_CONSUMER_SEND_KEY = \"{EVENT_HUB_CONNECTION_CONSUMER_SEND_KEY}\"')\n",
    "    e.write('\\n')\n",
    "    e.write(f'BLOB_STORAGE_CONNECTION_PRODUCER = \"{BLOB_STORAGE_CONNECTION_PRODUCER}\"')\n",
    "    e.write('\\n')\n",
    "    e.write(f'BLOB_STORAGE_CONNECTION_CONSUMER = \"{BLOB_STORAGE_CONNECTION_CONSUMER}\"')"
   ]
  }
 ],
 "metadata": {
  "kernelspec": {
   "display_name": "Python 3",
   "language": "python",
   "name": "python3"
  },
  "language_info": {
   "codemirror_mode": {
    "name": "ipython",
    "version": 3
   },
   "file_extension": ".py",
   "mimetype": "text/x-python",
   "name": "python",
   "nbconvert_exporter": "python",
   "pygments_lexer": "ipython3",
   "version": "3.9.7"
  }
 },
 "nbformat": 4,
 "nbformat_minor": 2
}
